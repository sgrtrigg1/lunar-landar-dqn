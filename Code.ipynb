{
 "cells": [
  {
   "cell_type": "markdown",
   "id": "94e4600d",
   "metadata": {},
   "source": [
    "🎒 Step 1: Replay Buffer Code Block"
   ]
  },
  {
   "cell_type": "code",
   "execution_count": 1,
   "id": "19342765",
   "metadata": {},
   "outputs": [],
   "source": [
    "# 🎒 Replay Buffer - Experience Replay Memory\n",
    "\n",
    "import random\n",
    "from collections import deque\n",
    "import numpy as np\n",
    "\n",
    "class ReplayBuffer:\n",
    "    \"\"\"\n",
    "    A fixed-size buffer that stores agent experiences for training the Q-network.\n",
    "\n",
    "    Attributes:\n",
    "        buffer (deque): A double-ended queue to store experience tuples.\n",
    "        capacity (int): Maximum number of experiences the buffer can hold.\n",
    "    \"\"\"\n",
    "\n",
    "    def __init__(self, capacity=100_000):\n",
    "        \"\"\"\n",
    "        Initialize the replay buffer.\n",
    "\n",
    "        Args:\n",
    "            capacity (int): Maximum number of transitions to store in the buffer.\n",
    "        \"\"\"\n",
    "        self.buffer = deque(maxlen=capacity)\n",
    "\n",
    "    def push(self, state, action, reward, next_state, done):\n",
    "        \"\"\"\n",
    "        Store a new experience in the buffer.\n",
    "\n",
    "        Args:\n",
    "            state (np.ndarray): The current state.\n",
    "            action (int): The action taken.\n",
    "            reward (float): The reward received.\n",
    "            next_state (np.ndarray): The resulting next state.\n",
    "            done (bool): Whether the episode has ended.\n",
    "        \"\"\"\n",
    "        self.buffer.append((state, action, reward, next_state, done))\n",
    "\n",
    "    def sample(self, batch_size):\n",
    "        \"\"\"\n",
    "        Sample a batch of experiences from the buffer.\n",
    "\n",
    "        Args:\n",
    "            batch_size (int): The number of samples to return.\n",
    "\n",
    "        Returns:\n",
    "            tuple of np.ndarrays: Batched (states, actions, rewards, next_states, dones)\n",
    "        \"\"\"\n",
    "        states, actions, rewards, next_states, dones = zip(*random.sample(self.buffer, batch_size))\n",
    "        return (\n",
    "            np.array(states),\n",
    "            np.array(actions),\n",
    "            np.array(rewards, dtype=np.float32),\n",
    "            np.array(next_states),\n",
    "            np.array(dones, dtype=np.uint8)\n",
    "        )\n",
    "\n",
    "    def __len__(self):\n",
    "        \"\"\"\n",
    "        Return the current size of the buffer.\n",
    "\n",
    "        Returns:\n",
    "            int: Number of stored experiences.\n",
    "        \"\"\"\n",
    "        return len(self.buffer)\n"
   ]
  },
  {
   "cell_type": "code",
   "execution_count": 2,
   "id": "c89cb221",
   "metadata": {},
   "outputs": [
    {
     "name": "stdout",
     "output_type": "stream",
     "text": [
      "✅ Buffer size after pushing: 5\n",
      "✅ Sampled batch shapes:\n",
      "States shape: (3, 8)\n",
      "Actions shape: (3,)\n",
      "Rewards shape: (3,)\n",
      "Next States shape: (3, 8)\n",
      "Dones shape: (3,)\n"
     ]
    }
   ],
   "source": [
    "# 🧪 Testing the ReplayBuffer functionality\n",
    "\n",
    "# Create a buffer with small capacity for testing\n",
    "buffer = ReplayBuffer(capacity=10)\n",
    "\n",
    "# Push in 5 dummy experiences\n",
    "for i in range(5):\n",
    "    state = np.zeros(8) + i  # Fake state vector (8 features like LunarLander)\n",
    "    action = i % 4\n",
    "    reward = float(i)\n",
    "    next_state = state + 1\n",
    "    done = i % 2 == 0\n",
    "    buffer.push(state, action, reward, next_state, done)\n",
    "\n",
    "print(f\"✅ Buffer size after pushing: {len(buffer)}\")\n",
    "\n",
    "# Sample 3 experiences\n",
    "sampled = buffer.sample(3)\n",
    "print(\"✅ Sampled batch shapes:\")\n",
    "print(\"States shape:\", sampled[0].shape)\n",
    "print(\"Actions shape:\", sampled[1].shape)\n",
    "print(\"Rewards shape:\", sampled[2].shape)\n",
    "print(\"Next States shape:\", sampled[3].shape)\n",
    "print(\"Dones shape:\", sampled[4].shape)\n"
   ]
  },
  {
   "cell_type": "markdown",
   "id": "bc53fd59",
   "metadata": {},
   "source": [
    "🧠 Step 2: Q-Network (Neural Net Brain)"
   ]
  },
  {
   "cell_type": "code",
   "execution_count": 3,
   "id": "538c04d4",
   "metadata": {},
   "outputs": [],
   "source": [
    "# 🧠 Q-Network - The Deep Neural Network Approximator\n",
    "\n",
    "import torch\n",
    "import torch.nn as nn\n",
    "\n",
    "class QNetwork(nn.Module):\n",
    "    \"\"\"\n",
    "    A feedforward neural network that estimates Q-values for each action\n",
    "    given a state input from the environment.\n",
    "\n",
    "    Attributes:\n",
    "        model (nn.Sequential): The sequential network architecture.\n",
    "    \"\"\"\n",
    "\n",
    "    def __init__(self, state_size, action_size):\n",
    "        \"\"\"\n",
    "        Initialize the Q-network layers.\n",
    "\n",
    "        Args:\n",
    "            state_size (int): Dimension of the input state.\n",
    "            action_size (int): Number of possible discrete actions.\n",
    "        \"\"\"\n",
    "        super(QNetwork, self).__init__()\n",
    "\n",
    "        self.model = nn.Sequential(\n",
    "            nn.Linear(state_size, 128),\n",
    "            nn.ReLU(),\n",
    "            nn.Linear(128, 128),\n",
    "            nn.ReLU(),\n",
    "            nn.Linear(128, action_size)\n",
    "        )\n",
    "\n",
    "    def forward(self, x):\n",
    "        \"\"\"\n",
    "        Forward pass of the network.\n",
    "\n",
    "        Args:\n",
    "            x (torch.Tensor): The input state tensor.\n",
    "\n",
    "        Returns:\n",
    "            torch.Tensor: The predicted Q-values for each action.\n",
    "        \"\"\"\n",
    "        return self.model(x)\n"
   ]
  },
  {
   "cell_type": "code",
   "execution_count": 4,
   "id": "45953ba3",
   "metadata": {},
   "outputs": [
    {
     "name": "stdout",
     "output_type": "stream",
     "text": [
      "✅ Output Q-values: tensor([[ 0.1017,  0.1722, -0.2195,  0.0700]], grad_fn=<AddmmBackward0>)\n",
      "✅ Output shape: torch.Size([1, 4])\n"
     ]
    }
   ],
   "source": [
    "# 🧪 Testing the QNetwork with dummy input\n",
    "\n",
    "state_size = 8     # LunarLander-v2 has 8 state features\n",
    "action_size = 4    # 4 discrete actions\n",
    "\n",
    "net = QNetwork(state_size, action_size)\n",
    "\n",
    "dummy_input = torch.randn(1, state_size)\n",
    "output = net(dummy_input)\n",
    "\n",
    "print(\"✅ Output Q-values:\", output)\n",
    "print(\"✅ Output shape:\", output.shape)\n"
   ]
  }
 ],
 "metadata": {
  "kernelspec": {
   "display_name": "venv",
   "language": "python",
   "name": "python3"
  },
  "language_info": {
   "codemirror_mode": {
    "name": "ipython",
    "version": 3
   },
   "file_extension": ".py",
   "mimetype": "text/x-python",
   "name": "python",
   "nbconvert_exporter": "python",
   "pygments_lexer": "ipython3",
   "version": "3.10.0"
  }
 },
 "nbformat": 4,
 "nbformat_minor": 5
}
