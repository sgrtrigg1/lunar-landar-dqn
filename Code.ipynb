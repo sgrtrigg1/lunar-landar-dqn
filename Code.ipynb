{
 "cells": [
  {
   "cell_type": "markdown",
   "id": "94e4600d",
   "metadata": {},
   "source": [
    "🎒 Step 1: Replay Buffer Code Block"
   ]
  },
  {
   "cell_type": "code",
   "execution_count": 1,
   "id": "19342765",
   "metadata": {},
   "outputs": [],
   "source": [
    "# 🎒 Replay Buffer - Experience Replay Memory\n",
    "\n",
    "import random\n",
    "from collections import deque\n",
    "import numpy as np\n",
    "\n",
    "class ReplayBuffer:\n",
    "    \"\"\"\n",
    "    A fixed-size buffer that stores agent experiences for training the Q-network.\n",
    "\n",
    "    Attributes:\n",
    "        buffer (deque): A double-ended queue to store experience tuples.\n",
    "        capacity (int): Maximum number of experiences the buffer can hold.\n",
    "    \"\"\"\n",
    "\n",
    "    def __init__(self, capacity=100_000):\n",
    "        \"\"\"\n",
    "        Initialize the replay buffer.\n",
    "\n",
    "        Args:\n",
    "            capacity (int): Maximum number of transitions to store in the buffer.\n",
    "        \"\"\"\n",
    "        self.buffer = deque(maxlen=capacity)\n",
    "\n",
    "    def push(self, state, action, reward, next_state, done):\n",
    "        \"\"\"\n",
    "        Store a new experience in the buffer.\n",
    "\n",
    "        Args:\n",
    "            state (np.ndarray): The current state.\n",
    "            action (int): The action taken.\n",
    "            reward (float): The reward received.\n",
    "            next_state (np.ndarray): The resulting next state.\n",
    "            done (bool): Whether the episode has ended.\n",
    "        \"\"\"\n",
    "        self.buffer.append((state, action, reward, next_state, done))\n",
    "\n",
    "    def sample(self, batch_size):\n",
    "        \"\"\"\n",
    "        Sample a batch of experiences from the buffer.\n",
    "\n",
    "        Args:\n",
    "            batch_size (int): The number of samples to return.\n",
    "\n",
    "        Returns:\n",
    "            tuple of np.ndarrays: Batched (states, actions, rewards, next_states, dones)\n",
    "        \"\"\"\n",
    "        states, actions, rewards, next_states, dones = zip(*random.sample(self.buffer, batch_size))\n",
    "        return (\n",
    "            np.array(states),\n",
    "            np.array(actions),\n",
    "            np.array(rewards, dtype=np.float32),\n",
    "            np.array(next_states),\n",
    "            np.array(dones, dtype=np.uint8)\n",
    "        )\n",
    "\n",
    "    def __len__(self):\n",
    "        \"\"\"\n",
    "        Return the current size of the buffer.\n",
    "\n",
    "        Returns:\n",
    "            int: Number of stored experiences.\n",
    "        \"\"\"\n",
    "        return len(self.buffer)\n"
   ]
  },
  {
   "cell_type": "code",
   "execution_count": 2,
   "id": "c89cb221",
   "metadata": {},
   "outputs": [
    {
     "name": "stdout",
     "output_type": "stream",
     "text": [
      "✅ Buffer size after pushing: 5\n",
      "✅ Sampled batch shapes:\n",
      "States shape: (3, 8)\n",
      "Actions shape: (3,)\n",
      "Rewards shape: (3,)\n",
      "Next States shape: (3, 8)\n",
      "Dones shape: (3,)\n"
     ]
    }
   ],
   "source": [
    "# 🧪 Testing the ReplayBuffer functionality\n",
    "\n",
    "# Create a buffer with small capacity for testing\n",
    "buffer = ReplayBuffer(capacity=10)\n",
    "\n",
    "# Push in 5 dummy experiences\n",
    "for i in range(5):\n",
    "    state = np.zeros(8) + i  # Fake state vector (8 features like LunarLander)\n",
    "    action = i % 4\n",
    "    reward = float(i)\n",
    "    next_state = state + 1\n",
    "    done = i % 2 == 0\n",
    "    buffer.push(state, action, reward, next_state, done)\n",
    "\n",
    "print(f\"✅ Buffer size after pushing: {len(buffer)}\")\n",
    "\n",
    "# Sample 3 experiences\n",
    "sampled = buffer.sample(3)\n",
    "print(\"✅ Sampled batch shapes:\")\n",
    "print(\"States shape:\", sampled[0].shape)\n",
    "print(\"Actions shape:\", sampled[1].shape)\n",
    "print(\"Rewards shape:\", sampled[2].shape)\n",
    "print(\"Next States shape:\", sampled[3].shape)\n",
    "print(\"Dones shape:\", sampled[4].shape)\n"
   ]
  },
  {
   "cell_type": "markdown",
   "id": "bc53fd59",
   "metadata": {},
   "source": [
    "🧠 Step 2: Q-Network (Neural Net Brain)"
   ]
  },
  {
   "cell_type": "code",
   "execution_count": 3,
   "id": "538c04d4",
   "metadata": {},
   "outputs": [],
   "source": [
    "# 🧠 Q-Network - The Deep Neural Network Approximator\n",
    "\n",
    "import torch\n",
    "import torch.nn as nn\n",
    "\n",
    "class QNetwork(nn.Module):\n",
    "    \"\"\"\n",
    "    A feedforward neural network that estimates Q-values for each action\n",
    "    given a state input from the environment.\n",
    "\n",
    "    Attributes:\n",
    "        model (nn.Sequential): The sequential network architecture.\n",
    "    \"\"\"\n",
    "\n",
    "    def __init__(self, state_size, action_size):\n",
    "        \"\"\"\n",
    "        Initialize the Q-network layers.\n",
    "\n",
    "        Args:\n",
    "            state_size (int): Dimension of the input state.\n",
    "            action_size (int): Number of possible discrete actions.\n",
    "        \"\"\"\n",
    "        super(QNetwork, self).__init__()\n",
    "\n",
    "        self.model = nn.Sequential(\n",
    "            nn.Linear(state_size, 128),\n",
    "            nn.ReLU(),\n",
    "            nn.Linear(128, 128),\n",
    "            nn.ReLU(),\n",
    "            nn.Linear(128, action_size)\n",
    "        )\n",
    "\n",
    "    def forward(self, x):\n",
    "        \"\"\"\n",
    "        Forward pass of the network.\n",
    "\n",
    "        Args:\n",
    "            x (torch.Tensor): The input state tensor.\n",
    "\n",
    "        Returns:\n",
    "            torch.Tensor: The predicted Q-values for each action.\n",
    "        \"\"\"\n",
    "        return self.model(x)\n"
   ]
  },
  {
   "cell_type": "code",
   "execution_count": 4,
   "id": "45953ba3",
   "metadata": {},
   "outputs": [
    {
     "name": "stdout",
     "output_type": "stream",
     "text": [
      "✅ Output Q-values: tensor([[ 0.1017,  0.1722, -0.2195,  0.0700]], grad_fn=<AddmmBackward0>)\n",
      "✅ Output shape: torch.Size([1, 4])\n"
     ]
    }
   ],
   "source": [
    "# 🧪 Testing the QNetwork with dummy input\n",
    "\n",
    "state_size = 8     # LunarLander-v2 has 8 state features\n",
    "action_size = 4    # 4 discrete actions\n",
    "\n",
    "net = QNetwork(state_size, action_size)\n",
    "\n",
    "dummy_input = torch.randn(1, state_size)\n",
    "output = net(dummy_input)\n",
    "\n",
    "print(\"✅ Output Q-values:\", output)\n",
    "print(\"✅ Output shape:\", output.shape)\n"
   ]
  },
  {
   "cell_type": "markdown",
   "id": "67bdf876",
   "metadata": {},
   "source": [
    "🤖 Step 3: DQN Agent Class"
   ]
  },
  {
   "cell_type": "code",
   "execution_count": 5,
   "id": "89fae78b",
   "metadata": {},
   "outputs": [],
   "source": [
    "# 🤖 DQN Agent - The Reinforcement Learning Engine\n",
    "\n",
    "import torch.optim as optim\n",
    "\n",
    "class DQNAgent:\n",
    "    \"\"\"\n",
    "    Deep Q-Learning Agent that interacts with and learns from the environment.\n",
    "\n",
    "    Attributes:\n",
    "        q_network (QNetwork): Main Q-network used to predict Q-values.\n",
    "        target_network (QNetwork): Target Q-network for stable learning.\n",
    "        optimizer (torch.optim.Adam): Optimizer for updating q_network weights.\n",
    "        buffer (ReplayBuffer): Memory buffer for storing experiences.\n",
    "        gamma (float): Discount factor for future rewards.\n",
    "        epsilon (float): Exploration rate for epsilon-greedy policy.\n",
    "    \"\"\"\n",
    "\n",
    "    def __init__(self, state_size, action_size, buffer, lr=1e-3, gamma=0.99, epsilon=1.0, epsilon_decay=0.995, epsilon_min=0.01):\n",
    "        \"\"\"\n",
    "        Initialize the agent.\n",
    "\n",
    "        Args:\n",
    "            state_size (int): Number of features in the environment state.\n",
    "            action_size (int): Number of discrete actions.\n",
    "            buffer (ReplayBuffer): Replay buffer instance.\n",
    "            lr (float): Learning rate for the optimizer.\n",
    "            gamma (float): Discount factor.\n",
    "            epsilon (float): Initial exploration rate.\n",
    "            epsilon_decay (float): Rate at which epsilon decays.\n",
    "            epsilon_min (float): Minimum value of epsilon.\n",
    "        \"\"\"\n",
    "        self.q_network = QNetwork(state_size, action_size)\n",
    "        self.target_network = QNetwork(state_size, action_size)\n",
    "        self.target_network.load_state_dict(self.q_network.state_dict())\n",
    "        self.target_network.eval()\n",
    "\n",
    "        self.optimizer = optim.Adam(self.q_network.parameters(), lr=lr)\n",
    "        self.buffer = buffer\n",
    "\n",
    "        self.gamma = gamma\n",
    "        self.epsilon = epsilon\n",
    "        self.epsilon_decay = epsilon_decay\n",
    "        self.epsilon_min = epsilon_min\n",
    "        self.action_size = action_size\n",
    "\n",
    "    def act(self, state):\n",
    "        \"\"\"\n",
    "        Select an action using epsilon-greedy strategy.\n",
    "\n",
    "        Args:\n",
    "            state (np.ndarray): Current state.\n",
    "\n",
    "        Returns:\n",
    "            int: Action index.\n",
    "        \"\"\"\n",
    "        if np.random.rand() < self.epsilon:\n",
    "            return np.random.randint(self.action_size)\n",
    "        state = torch.FloatTensor(state).unsqueeze(0)\n",
    "        with torch.no_grad():\n",
    "            q_values = self.q_network(state)\n",
    "        return q_values.argmax().item()\n",
    "\n",
    "    def learn(self, batch_size):\n",
    "        \"\"\"\n",
    "        Sample a batch from memory and perform a learning step.\n",
    "\n",
    "        Args:\n",
    "            batch_size (int): Size of the mini-batch for learning.\n",
    "        \"\"\"\n",
    "        if len(self.buffer) < batch_size:\n",
    "            return\n",
    "\n",
    "        states, actions, rewards, next_states, dones = self.buffer.sample(batch_size)\n",
    "\n",
    "        states = torch.FloatTensor(states)\n",
    "        actions = torch.LongTensor(actions).unsqueeze(1)\n",
    "        rewards = torch.FloatTensor(rewards).unsqueeze(1)\n",
    "        next_states = torch.FloatTensor(next_states)\n",
    "        dones = torch.FloatTensor(dones).unsqueeze(1)\n",
    "\n",
    "        q_values = self.q_network(states).gather(1, actions)\n",
    "        with torch.no_grad():\n",
    "            next_q_values = self.target_network(next_states).max(1, keepdim=True)[0]\n",
    "            target_q = rewards + (1 - dones) * self.gamma * next_q_values\n",
    "\n",
    "        loss = nn.MSELoss()(q_values, target_q)\n",
    "\n",
    "        self.optimizer.zero_grad()\n",
    "        loss.backward()\n",
    "        self.optimizer.step()\n",
    "\n",
    "        return loss.item()\n",
    "\n",
    "    def update_epsilon(self):\n",
    "        \"\"\"\n",
    "        Decay the exploration rate after each episode.\n",
    "        \"\"\"\n",
    "        self.epsilon = max(self.epsilon_min, self.epsilon * self.epsilon_decay)\n",
    "\n",
    "    def update_target_network(self):\n",
    "        \"\"\"\n",
    "        Copy weights from the main Q-network to the target network.\n",
    "        \"\"\"\n",
    "        self.target_network.load_state_dict(self.q_network.state_dict())\n"
   ]
  },
  {
   "cell_type": "markdown",
   "id": "9958fd44",
   "metadata": {},
   "source": [
    "🔁 Step 4: Training Loop"
   ]
  },
  {
   "cell_type": "code",
   "execution_count": 7,
   "id": "4a5b4f99",
   "metadata": {},
   "outputs": [
    {
     "name": "stderr",
     "output_type": "stream",
     "text": [
      "🚀 Training:  10%|█         | 100/1000 [00:27<05:12,  2.88it/s]"
     ]
    },
    {
     "name": "stdout",
     "output_type": "stream",
     "text": [
      "🎯 Episode 100 - Reward: -91.49 | Epsilon: 0.606 | Loss: 24.8011\n"
     ]
    },
    {
     "name": "stderr",
     "output_type": "stream",
     "text": [
      "🚀 Training:  20%|██        | 200/1000 [02:02<26:04,  1.96s/it]"
     ]
    },
    {
     "name": "stdout",
     "output_type": "stream",
     "text": [
      "🎯 Episode 200 - Reward: -33.73 | Epsilon: 0.367 | Loss: 16.8870\n"
     ]
    },
    {
     "name": "stderr",
     "output_type": "stream",
     "text": [
      "🚀 Training:  30%|███       | 300/1000 [05:17<23:26,  2.01s/it]"
     ]
    },
    {
     "name": "stdout",
     "output_type": "stream",
     "text": [
      "🎯 Episode 300 - Reward: -104.36 | Epsilon: 0.222 | Loss: 7.6364\n"
     ]
    },
    {
     "name": "stderr",
     "output_type": "stream",
     "text": [
      "🚀 Training:  33%|███▎      | 329/1000 [06:07<12:30,  1.12s/it]\n"
     ]
    },
    {
     "ename": "KeyboardInterrupt",
     "evalue": "",
     "output_type": "error",
     "traceback": [
      "\u001b[1;31m---------------------------------------------------------------------------\u001b[0m",
      "\u001b[1;31mKeyboardInterrupt\u001b[0m                         Traceback (most recent call last)",
      "Cell \u001b[1;32mIn[7], line 41\u001b[0m\n\u001b[0;32m     38\u001b[0m total_reward \u001b[38;5;241m+\u001b[39m\u001b[38;5;241m=\u001b[39m reward\n\u001b[0;32m     40\u001b[0m \u001b[38;5;66;03m# Learning step\u001b[39;00m\n\u001b[1;32m---> 41\u001b[0m loss \u001b[38;5;241m=\u001b[39m \u001b[43magent\u001b[49m\u001b[38;5;241;43m.\u001b[39;49m\u001b[43mlearn\u001b[49m\u001b[43m(\u001b[49m\u001b[43mbatch_size\u001b[49m\u001b[43m)\u001b[49m\n\u001b[0;32m     42\u001b[0m \u001b[38;5;28;01mif\u001b[39;00m loss \u001b[38;5;129;01mis\u001b[39;00m \u001b[38;5;129;01mnot\u001b[39;00m \u001b[38;5;28;01mNone\u001b[39;00m:\n\u001b[0;32m     43\u001b[0m     losses\u001b[38;5;241m.\u001b[39mappend(loss)\n",
      "\u001b[1;31mKeyboardInterrupt\u001b[0m: "
     ]
    }
   ],
   "source": [
    "# 🔁 Training Loop - Interact, Learn, and Track Progress\n",
    "\n",
    "import gymnasium as gym\n",
    "from tqdm import trange\n",
    "\n",
    "# Environment setup\n",
    "env = gym.make(\"LunarLander-v3\")\n",
    "state_size = env.observation_space.shape[0]\n",
    "action_size = env.action_space.n\n",
    "\n",
    "# Agent setup\n",
    "buffer = ReplayBuffer(capacity=100_000)\n",
    "agent = DQNAgent(state_size, action_size, buffer)\n",
    "\n",
    "# Training hyperparameters\n",
    "num_episodes = 1000\n",
    "batch_size = 64\n",
    "target_update_freq = 10  # how often to sync target network\n",
    "\n",
    "# Tracking\n",
    "reward_history = []\n",
    "loss_history = []\n",
    "\n",
    "# Training loop\n",
    "for episode in trange(num_episodes, desc=\"🚀 Training\"):\n",
    "    state, _ = env.reset()\n",
    "    total_reward = 0\n",
    "    losses = []\n",
    "\n",
    "    done = False\n",
    "    while not done:\n",
    "        action = agent.act(state)\n",
    "        next_state, reward, terminated, truncated, _ = env.step(action)\n",
    "        done = terminated or truncated\n",
    "\n",
    "        agent.buffer.push(state, action, reward, next_state, done)\n",
    "        state = next_state\n",
    "        total_reward += reward\n",
    "\n",
    "        # Learning step\n",
    "        loss = agent.learn(batch_size)\n",
    "        if loss is not None:\n",
    "            losses.append(loss)\n",
    "\n",
    "    # End-of-episode updates\n",
    "    agent.update_epsilon()\n",
    "    if episode % target_update_freq == 0:\n",
    "        agent.update_target_network()\n",
    "\n",
    "    # Track performance\n",
    "    reward_history.append(total_reward)\n",
    "    avg_loss = np.mean(losses) if losses else 0\n",
    "    loss_history.append(avg_loss)\n",
    "\n",
    "    # Print episode summary every 100\n",
    "    if (episode + 1) % 100 == 0:\n",
    "        print(f\"🎯 Episode {episode+1} - Reward: {total_reward:.2f} | Epsilon: {agent.epsilon:.3f} | Loss: {avg_loss:.4f}\")\n"
   ]
  }
 ],
 "metadata": {
  "kernelspec": {
   "display_name": "venv",
   "language": "python",
   "name": "python3"
  },
  "language_info": {
   "codemirror_mode": {
    "name": "ipython",
    "version": 3
   },
   "file_extension": ".py",
   "mimetype": "text/x-python",
   "name": "python",
   "nbconvert_exporter": "python",
   "pygments_lexer": "ipython3",
   "version": "3.10.0"
  }
 },
 "nbformat": 4,
 "nbformat_minor": 5
}
